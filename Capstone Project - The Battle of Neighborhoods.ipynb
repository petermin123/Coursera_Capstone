{
 "cells": [
  {
   "cell_type": "markdown",
   "metadata": {},
   "source": [
    "## Capstone Project Overview"
   ]
  },
  {
   "cell_type": "markdown",
   "metadata": {},
   "source": [
    "The project is the final capstone project as part of the IBM-Coursera Data Science Professional Certificate training program, and it aims to integrate a series of technical skills and methods taught throughout the courses."
   ]
  },
  {
   "cell_type": "markdown",
   "metadata": {},
   "source": [
    "### Background Information"
   ]
  },
  {
   "cell_type": "markdown",
   "metadata": {},
   "source": [
    "Atlanta is a vibrant city with colorful history. It is the place in the United States where I spent one of the most important four years of my life. Not only the city contains modern, dynamic cultures such as arts venues and tourist spots like the [High Museum of Art](https://en.wikipedia.org/wiki/High_Museum_of_Art) and the [World of Coca Cola](https://en.wikipedia.org/wiki/World_of_Coca-Cola), it also encompasses historical places such as the [Margaret Mitchell House](https://en.wikipedia.org/wiki/Margaret_Mitchell_House_and_Museum) where ***Gone with the Wind*** was born, and the [Swan House](https://en.wikipedia.org/wiki/Swan_House_(Atlanta)) that witnessed the civil rights movements taking place decades ago. \n",
    "\n",
    "Therefore, I am really interested in how I could dig deeper to see what Atlanta can offer in terms of the businesses and venues in the city, for both its current residents and tourists who are interested in visiting or settling down in it."
   ]
  },
  {
   "cell_type": "markdown",
   "metadata": {},
   "source": [
    "However, Atlanta can be either defined as one single city or as a metropolitan area containing a large area of surrounding cities. For the purpose of this project, I would be using only certain cities around Atlanta (including itself) for the unsupervised clustering of the cities instead of the neighborhoods that appeared in the lab sessions. In order to pinpoint the number of cities and their exact names, I would be using this [Wikipedia](https://en.wikipedia.org/wiki/Atlanta_metropolitan_area) information on the **Atlanta Metropolitan Area** as my reference:\n",
    "> The counties listed below are included in the Atlanta–Sandy Springs–Alpharetta, GA Metropolitan Statistical Area ... **Fulton**, **DeKalb**, **Gwinnett**, **Cobb**, and **Clayton** were the five original counties when the Atlanta metropolitan area was first defined in 1950, and continue to be the core of the metro area ..."
   ]
  },
  {
   "cell_type": "markdown",
   "metadata": {},
   "source": [
    "### Dataset"
   ]
  },
  {
   "cell_type": "markdown",
   "metadata": {},
   "source": [
    "With the targets of interest narrowed down, I would start by obtaining all the cities in the five counties listed above. This can be easily achieved using their associated Wikipedia pages and performing a few BeautifulSoup web scraping techniques. The dataset in the end would include 3 columns including the names of the cities, their latitudes, and their longitudes. This will help us integrate the dataset with the Foursquare API to retrieve the businesses within a certain distance of each city."
   ]
  }
 ],
 "metadata": {
  "kernelspec": {
   "display_name": "Python 3",
   "language": "python",
   "name": "python3"
  },
  "language_info": {
   "codemirror_mode": {
    "name": "ipython",
    "version": 3
   },
   "file_extension": ".py",
   "mimetype": "text/x-python",
   "name": "python",
   "nbconvert_exporter": "python",
   "pygments_lexer": "ipython3",
   "version": "3.7.3"
  }
 },
 "nbformat": 4,
 "nbformat_minor": 2
}
